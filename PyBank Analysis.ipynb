{
 "cells": [
  {
   "cell_type": "code",
   "execution_count": 9,
   "id": "9d3abea0",
   "metadata": {},
   "outputs": [
    {
     "name": "stdout",
     "output_type": "stream",
     "text": [
      "File found at: /System/Volumes/Data/Users/kevykev/Downloads/Starter_Code 7/PyBank/Resources/budget_data.csv\n",
      "File found at: /System/Volumes/Data/Users/kevykev/Downloads/Python challenge/PyBank/Resources/budget_data.csv\n",
      "File found at: /System/Volumes/Data/Users/kevykev/Downloads/Module3_Challenge_Python /PyBank/Resources/budget_data.csv\n",
      "File found at: /Users/kevykev/Downloads/Starter_Code 7/PyBank/Resources/budget_data.csv\n",
      "File found at: /Users/kevykev/Downloads/Python challenge/PyBank/Resources/budget_data.csv\n",
      "File found at: /Users/kevykev/Downloads/Module3_Challenge_Python /PyBank/Resources/budget_data.csv\n"
     ]
    }
   ],
   "source": [
    "import os\n",
    "\n",
    "# Define the filename you are looking for\n",
    "file_name = \"budget_data.csv\"\n",
    "\n",
    "# Define the root directory where you want to start the search\n",
    "root_dir = \"/\"\n",
    "\n",
    "# Walk through the directory and its subdirectories to find the file\n",
    "for dirpath, dirnames, filenames in os.walk(root_dir):\n",
    "    if file_name in filenames:\n",
    "        file_path = os.path.join(dirpath, file_name)\n",
    "        print(\"File found at:\", file_path)"
   ]
  },
  {
   "cell_type": "code",
   "execution_count": 10,
   "id": "a6c90dcf",
   "metadata": {},
   "outputs": [],
   "source": [
    "# Initialize variables\n",
    "total_months = 0\n",
    "net_total = 0\n",
    "profit_losses = []\n",
    "dates = []\n",
    "greatest_increase = 0\n",
    "greatest_decrease = 0\n"
   ]
  },
  {
   "cell_type": "code",
   "execution_count": 11,
   "id": "84419ce8",
   "metadata": {},
   "outputs": [],
   "source": [
    "# Read the CSV file\n",
    "with open(file_path, newline=\"\") as csvfile:\n",
    "    csvreader = csv.reader(csvfile, delimiter=\",\")\n",
    "    csv_header = next(csvreader)  # Skip header row\n",
    "\n",
    "    for row in csvreader:\n",
    "        # Calculate total number of months\n",
    "        total_months += 1\n",
    "\n",
    "        # Calculate net total profit/loss\n",
    "        profit_loss = int(row[1])\n",
    "        net_total += profit_loss\n",
    "\n",
    "        # Store profit/loss values and dates\n",
    "        profit_losses.append(profit_loss)\n",
    "        dates.append(row[0])\n",
    "\n",
    "        # Find greatest increase and decrease in profits\n",
    "        if profit_loss > greatest_increase:\n",
    "            greatest_increase = profit_loss\n",
    "            greatest_increase_date = row[0]\n",
    "        if profit_loss < greatest_decrease:\n",
    "            greatest_decrease = profit_loss\n",
    "            greatest_decrease_date = row[0]"
   ]
  },
  {
   "cell_type": "code",
   "execution_count": 13,
   "id": "4ebd7dac",
   "metadata": {},
   "outputs": [
    {
     "name": "stdout",
     "output_type": "stream",
     "text": [
      "Financial Analysis\n",
      "----------------------------\n",
      "Total Months: 86\n",
      "Total: $22564198\n",
      "Average Change: $-8311.11\n",
      "Greatest Increase in Profits: Mar-13 ($1141840)\n",
      "Greatest Decrease in Profits: Dec-10 ($-1194133)\n"
     ]
    }
   ],
   "source": [
    "# Calculate changes in profit/loss\n",
    "changes = [profit_losses[i+1] - profit_losses[i] for i in range(len(profit_losses)-1)]\n",
    "average_change = sum(changes) / len(changes)\n",
    "\n",
    "# Print the analysis results\n",
    "print(\"Financial Analysis\")\n",
    "print(\"----------------------------\")\n",
    "print(f\"Total Months: {total_months}\")\n",
    "print(f\"Total: ${net_total}\")\n",
    "print(f\"Average Change: ${average_change:.2f}\")\n",
    "print(f\"Greatest Increase in Profits: {greatest_increase_date} (${greatest_increase})\")\n",
    "print(f\"Greatest Decrease in Profits: {greatest_decrease_date} (${greatest_decrease})\")"
   ]
  },
  {
   "cell_type": "code",
   "execution_count": 14,
   "id": "1f53c455",
   "metadata": {},
   "outputs": [
    {
     "name": "stdout",
     "output_type": "stream",
     "text": [
      "Financial analysis results have been saved to 'financial_analysis.txt'.\n"
     ]
    }
   ],
   "source": [
    "# Open a text file for writing the analysis results\n",
    "output_file = \"financial_analysis.txt\"\n",
    "with open(output_file, 'w') as file:\n",
    "    file.write(\"Financial Analysis\\n\")\n",
    "    file.write(\"----------------------------\\n\")\n",
    "    file.write(f\"Total Months: {total_months}\\n\")\n",
    "    file.write(f\"Total: ${net_total}\\n\")\n",
    "    file.write(f\"Average Change: ${average_change:.2f}\\n\")\n",
    "    file.write(f\"Greatest Increase in Profits: {greatest_increase_date} (${greatest_increase})\\n\")\n",
    "    file.write(f\"Greatest Decrease in Profits: {greatest_decrease_date} (${greatest_decrease})\\n\")\n",
    "\n",
    "# Print a message indicating that the results have been saved to the text file\n",
    "print(\"Financial analysis results have been saved to 'financial_analysis.txt'.\")"
   ]
  },
  {
   "cell_type": "code",
   "execution_count": null,
   "id": "3b9a4180",
   "metadata": {},
   "outputs": [],
   "source": []
  }
 ],
 "metadata": {
  "kernelspec": {
   "display_name": "Python 3 (ipykernel)",
   "language": "python",
   "name": "python3"
  },
  "language_info": {
   "codemirror_mode": {
    "name": "ipython",
    "version": 3
   },
   "file_extension": ".py",
   "mimetype": "text/x-python",
   "name": "python",
   "nbconvert_exporter": "python",
   "pygments_lexer": "ipython3",
   "version": "3.9.13"
  }
 },
 "nbformat": 4,
 "nbformat_minor": 5
}
