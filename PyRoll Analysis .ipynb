{
 "cells": [
  {
   "cell_type": "code",
   "execution_count": 6,
   "id": "1c9ac152",
   "metadata": {},
   "outputs": [
    {
     "name": "stdout",
     "output_type": "stream",
     "text": [
      "File found at: /System/Volumes/Data/Users/kevykev/Downloads/Starter_Code 7/PyPoll/Resources/election_data.csv\n",
      "File found at: /System/Volumes/Data/Users/kevykev/Downloads/Python challenge/PyPoll/Resources/election_data.csv\n",
      "File found at: /System/Volumes/Data/Users/kevykev/Downloads/Module3_Challenge_Python /PyPoll/Resources/election_data.csv\n",
      "File found at: /Users/kevykev/Downloads/Starter_Code 7/PyPoll/Resources/election_data.csv\n",
      "File found at: /Users/kevykev/Downloads/Python challenge/PyPoll/Resources/election_data.csv\n",
      "File found at: /Users/kevykev/Downloads/Module3_Challenge_Python /PyPoll/Resources/election_data.csv\n"
     ]
    }
   ],
   "source": [
    "import os\n",
    "\n",
    "# Define the filename you are looking for\n",
    "file_name = \"election_data.csv\"\n",
    "\n",
    "# Define the root directory where you want to start the search\n",
    "root_dir = \"/\"\n",
    "\n",
    "# Walk through the directory and its subdirectories to find the file\n",
    "for dirpath, dirnames, filenames in os.walk(root_dir):\n",
    "    if file_name in filenames:\n",
    "        file_path = os.path.join(dirpath, file_name)\n",
    "        print(\"File found at:\", file_path)"
   ]
  },
  {
   "cell_type": "code",
   "execution_count": 7,
   "id": "93b17bdc",
   "metadata": {},
   "outputs": [],
   "source": [
    "#Initialized Variables \n",
    "total_votes = 0\n",
    "candidates = {}"
   ]
  },
  {
   "cell_type": "code",
   "execution_count": 8,
   "id": "324c2c49",
   "metadata": {},
   "outputs": [],
   "source": [
    "import csv\n",
    "\n",
    "# Open and read the CSV file to extract the necessary information\n",
    "with open(file_path, 'r') as file:\n",
    "    csvreader = csv.reader(file)\n",
    "    header = next(csvreader)  # Skip the header row\n",
    "\n",
    "    for row in csvreader:\n",
    "        total_votes += 1\n",
    "        candidate = row[2]\n",
    "\n",
    "        if candidate in candidates:\n",
    "            candidates[candidate] += 1\n",
    "        else:\n",
    "            candidates[candidate] = 1"
   ]
  },
  {
   "cell_type": "code",
   "execution_count": 9,
   "id": "1291eeba",
   "metadata": {},
   "outputs": [],
   "source": [
    "# Calculate the candidate votes \n",
    "for candidate, votes in candidates.items():\n",
    "    percentage = (votes / total_votes) * 100\n",
    "    candidates[candidate] = (votes, percentage)"
   ]
  },
  {
   "cell_type": "code",
   "execution_count": 10,
   "id": "3fc9506d",
   "metadata": {},
   "outputs": [],
   "source": [
    "# Calculate the percentage of votes each candidate won and determine the winner based on the popular vote.\n",
    "winner = max(candidates, key=lambda x: candidates[x][0])"
   ]
  },
  {
   "cell_type": "code",
   "execution_count": 11,
   "id": "3b936a33",
   "metadata": {},
   "outputs": [
    {
     "name": "stdout",
     "output_type": "stream",
     "text": [
      "Election Results\n",
      "-------------------------\n",
      "Total Votes: 369711\n",
      "-------------------------\n",
      "Charles Casper Stockham: 23.049% (85213)\n",
      "Diana DeGette: 73.812% (272892)\n",
      "Raymon Anthony Doane: 3.139% (11606)\n",
      "-------------------------\n",
      "Winner: Diana DeGette\n",
      "-------------------------\n"
     ]
    }
   ],
   "source": [
    "#Print results \n",
    "print(\"Election Results\")\n",
    "print(\"-------------------------\")\n",
    "print(f\"Total Votes: {total_votes}\")\n",
    "print(\"-------------------------\")\n",
    "\n",
    "for candidate, (votes, percentage) in candidates.items():\n",
    "    print(f\"{candidate}: {percentage:.3f}% ({votes})\")\n",
    "\n",
    "print(\"-------------------------\")\n",
    "print(f\"Winner: {winner}\")\n",
    "print(\"-------------------------\")"
   ]
  },
  {
   "cell_type": "code",
   "execution_count": 12,
   "id": "35d6a074",
   "metadata": {},
   "outputs": [],
   "source": [
    "# Open txt file \n",
    "with open(\"election_results.txt\", 'w') as file:\n",
    "    file.write(\"Election Results\\n\")\n",
    "    file.write(\"-------------------------\\n\")\n",
    "    file.write(f\"Total Votes: {total_votes}\\n\")\n",
    "    file.write(\"-------------------------\\n\")\n",
    "\n",
    "    for candidate, (votes, percentage) in candidates.items():\n",
    "        file.write(f\"{candidate}: {percentage:.3f}% ({votes})\\n\")\n",
    "\n",
    "    file.write(\"-------------------------\\n\")\n",
    "    file.write(f\"Winner: {winner}\\n\")\n",
    "    file.write(\"-------------------------\\n\")\n"
   ]
  }
 ],
 "metadata": {
  "kernelspec": {
   "display_name": "Python 3 (ipykernel)",
   "language": "python",
   "name": "python3"
  },
  "language_info": {
   "codemirror_mode": {
    "name": "ipython",
    "version": 3
   },
   "file_extension": ".py",
   "mimetype": "text/x-python",
   "name": "python",
   "nbconvert_exporter": "python",
   "pygments_lexer": "ipython3",
   "version": "3.9.13"
  }
 },
 "nbformat": 4,
 "nbformat_minor": 5
}
